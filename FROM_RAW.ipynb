{
 "cells": [
  {
   "cell_type": "code",
   "execution_count": 1,
   "metadata": {},
   "outputs": [],
   "source": [
    "# for data processing\n",
    "import pandas as pd\n",
    "import csv\n",
    "import numpy as np\n",
    "from pandas import DataFrame\n",
    "# initial setting \n",
    "pd.set_option('display.max_rows', 50)  "
   ]
  },
  {
   "cell_type": "markdown",
   "metadata": {},
   "source": [
    "The data 'gadm1_nuts3_counties_gadm1_nuts3_counties_Aug2020.tsv'can be found at\n",
    "https://data.humdata.org/dataset/e9988552-74e4-4ff4-943f-c782ac8bca87/resource/3a98c06b-d373-45ed-a954-d93bdb12d5d0/download/gadm1_nuts3_counties_gadm1_nuts3_counties_aug2020.tsv.zip"
   ]
  },
  {
   "cell_type": "code",
   "execution_count": 2,
   "metadata": {},
   "outputs": [],
   "source": [
    "SCI_RAW = pd.read_csv('gadm1_nuts3_counties_gadm1_nuts3_counties_Aug2020.tsv', sep='\\t')"
   ]
  },
  {
   "cell_type": "code",
   "execution_count": 3,
   "metadata": {},
   "outputs": [
    {
     "name": "stdout",
     "output_type": "stream",
     "text": [
      "<class 'pandas.core.frame.DataFrame'>\n",
      "RangeIndex: 64128064 entries, 0 to 64128063\n",
      "Data columns (total 3 columns):\n",
      " #   Column      Dtype \n",
      "---  ------      ----- \n",
      " 0   user_loc    object\n",
      " 1   fr_loc      object\n",
      " 2   scaled_sci  int64 \n",
      "dtypes: int64(1), object(2)\n",
      "memory usage: 1.4+ GB\n"
     ]
    }
   ],
   "source": [
    "SCI_RAW.info()"
   ]
  },
  {
   "cell_type": "code",
   "execution_count": 4,
   "metadata": {},
   "outputs": [],
   "source": [
    "# first we selecet the raws which first columns contain 'UK'\n",
    "SCI_uk_world=SCI_RAW[SCI_RAW['user_loc'].str.startswith('UK')]"
   ]
  },
  {
   "cell_type": "code",
   "execution_count": 5,
   "metadata": {},
   "outputs": [
    {
     "data": {
      "text/html": [
       "<div>\n",
       "<style scoped>\n",
       "    .dataframe tbody tr th:only-of-type {\n",
       "        vertical-align: middle;\n",
       "    }\n",
       "\n",
       "    .dataframe tbody tr th {\n",
       "        vertical-align: top;\n",
       "    }\n",
       "\n",
       "    .dataframe thead th {\n",
       "        text-align: right;\n",
       "    }\n",
       "</style>\n",
       "<table border=\"1\" class=\"dataframe\">\n",
       "  <thead>\n",
       "    <tr style=\"text-align: right;\">\n",
       "      <th></th>\n",
       "      <th>user_loc</th>\n",
       "      <th>fr_loc</th>\n",
       "      <th>scaled_sci</th>\n",
       "    </tr>\n",
       "  </thead>\n",
       "  <tbody>\n",
       "    <tr>\n",
       "      <th>35563528</th>\n",
       "      <td>UKC11</td>\n",
       "      <td>ABW</td>\n",
       "      <td>61</td>\n",
       "    </tr>\n",
       "    <tr>\n",
       "      <th>35563529</th>\n",
       "      <td>UKC11</td>\n",
       "      <td>AGO1</td>\n",
       "      <td>33</td>\n",
       "    </tr>\n",
       "    <tr>\n",
       "      <th>35563530</th>\n",
       "      <td>UKC11</td>\n",
       "      <td>AGO10</td>\n",
       "      <td>10</td>\n",
       "    </tr>\n",
       "    <tr>\n",
       "      <th>35563531</th>\n",
       "      <td>UKC11</td>\n",
       "      <td>AGO11</td>\n",
       "      <td>30</td>\n",
       "    </tr>\n",
       "    <tr>\n",
       "      <th>35563532</th>\n",
       "      <td>UKC11</td>\n",
       "      <td>AGO12</td>\n",
       "      <td>48</td>\n",
       "    </tr>\n",
       "  </tbody>\n",
       "</table>\n",
       "</div>"
      ],
      "text/plain": [
       "         user_loc fr_loc  scaled_sci\n",
       "35563528    UKC11    ABW          61\n",
       "35563529    UKC11   AGO1          33\n",
       "35563530    UKC11  AGO10          10\n",
       "35563531    UKC11  AGO11          30\n",
       "35563532    UKC11  AGO12          48"
      ]
     },
     "execution_count": 5,
     "metadata": {},
     "output_type": "execute_result"
    }
   ],
   "source": [
    "SCI_uk_world.head(5)"
   ]
  },
  {
   "cell_type": "code",
   "execution_count": 6,
   "metadata": {},
   "outputs": [],
   "source": [
    "# then we selecet all the EU countries from the world \n",
    "SCI_uk_eu=SCI_uk_world[SCI_uk_world['fr_loc'].str.startswith('UK')|\n",
    "                       SCI_uk_world['fr_loc'].str.startswith('AT')|\n",
    "                       SCI_uk_world['fr_loc'].str.startswith('BE')|\n",
    "                       SCI_uk_world['fr_loc'].str.startswith('BG')|\n",
    "                       SCI_uk_world['fr_loc'].str.startswith('CY')|\n",
    "                       SCI_uk_world['fr_loc'].str.startswith('CZ')|\n",
    "                       SCI_uk_world['fr_loc'].str.startswith('DE')|\n",
    "                       SCI_uk_world['fr_loc'].str.startswith('DK')|\n",
    "                       SCI_uk_world['fr_loc'].str.startswith('EE')|\n",
    "                       SCI_uk_world['fr_loc'].str.startswith('EL')|\n",
    "                       SCI_uk_world['fr_loc'].str.startswith('ES')|\n",
    "                       SCI_uk_world['fr_loc'].str.startswith('FI')|\n",
    "                       SCI_uk_world['fr_loc'].str.startswith('FR')|\n",
    "                      SCI_uk_world['fr_loc'].str.startswith('HR')|\n",
    "                      SCI_uk_world['fr_loc'].str.startswith('HU')|\n",
    "                      SCI_uk_world['fr_loc'].str.startswith('IE')|\n",
    "                      SCI_uk_world['fr_loc'].str.startswith('IT')|\n",
    "                      SCI_uk_world['fr_loc'].str.startswith('LT')|\n",
    "                      SCI_uk_world['fr_loc'].str.startswith('LU')|\n",
    "                      SCI_uk_world['fr_loc'].str.startswith('LV')|\n",
    "                      SCI_uk_world['fr_loc'].str.startswith('MT')|\n",
    "                      SCI_uk_world['fr_loc'].str.startswith('NL')|\n",
    "                      SCI_uk_world['fr_loc'].str.startswith('PL')|\n",
    "                      SCI_uk_world['fr_loc'].str.startswith('PT')|\n",
    "                      SCI_uk_world['fr_loc'].str.startswith('RO')|\n",
    "                      SCI_uk_world['fr_loc'].str.startswith('SE')|\n",
    "                      SCI_uk_world['fr_loc'].str.startswith('SI')|\n",
    "                      SCI_uk_world['fr_loc'].str.startswith('SK')]"
   ]
  },
  {
   "cell_type": "code",
   "execution_count": 7,
   "metadata": {},
   "outputs": [
    {
     "name": "stdout",
     "output_type": "stream",
     "text": [
      "<class 'pandas.core.frame.DataFrame'>\n",
      "Int64Index: 295930 entries, 35563603 to 37177778\n",
      "Data columns (total 3 columns):\n",
      " #   Column      Non-Null Count   Dtype \n",
      "---  ------      --------------   ----- \n",
      " 0   user_loc    295930 non-null  object\n",
      " 1   fr_loc      295930 non-null  object\n",
      " 2   scaled_sci  295930 non-null  int64 \n",
      "dtypes: int64(1), object(2)\n",
      "memory usage: 9.0+ MB\n"
     ]
    }
   ],
   "source": [
    "SCI_uk_eu.info()"
   ]
  },
  {
   "cell_type": "markdown",
   "metadata": {},
   "source": [
    "### after checking the above data frame we found that there is some countries share the same first two initial, we need to drop them off, also the UK TO UK pairs are not considered in our research "
   ]
  },
  {
   "cell_type": "code",
   "execution_count": 8,
   "metadata": {},
   "outputs": [],
   "source": [
    "SCI_uk_eu=SCI_uk_eu[ ~ SCI_uk_eu['fr_loc'].str.startswith('SEN')]                   "
   ]
  },
  {
   "cell_type": "code",
   "execution_count": 9,
   "metadata": {},
   "outputs": [],
   "source": [
    "SCI_uk_eu=SCI_uk_eu[ ~ SCI_uk_eu['fr_loc'].str.startswith('BEN')]"
   ]
  },
  {
   "cell_type": "code",
   "execution_count": 10,
   "metadata": {},
   "outputs": [],
   "source": [
    "SCI_uk_eu=SCI_uk_eu[ ~ SCI_uk_eu['fr_loc'].str.startswith('ATG')]"
   ]
  },
  {
   "cell_type": "code",
   "execution_count": 11,
   "metadata": {},
   "outputs": [],
   "source": [
    "SCI_uk_eu=SCI_uk_eu[ ~ SCI_uk_eu['fr_loc'].str.startswith('BGD')]"
   ]
  },
  {
   "cell_type": "code",
   "execution_count": 12,
   "metadata": {},
   "outputs": [],
   "source": [
    "SCI_uk_eu=SCI_uk_eu[ ~ SCI_uk_eu['fr_loc'].str.startswith('PLW')]"
   ]
  },
  {
   "cell_type": "code",
   "execution_count": 13,
   "metadata": {},
   "outputs": [],
   "source": [
    "SCI_uk_eu=SCI_uk_eu[ ~ SCI_uk_eu['fr_loc'].str.startswith('FRO')]"
   ]
  },
  {
   "cell_type": "code",
   "execution_count": 14,
   "metadata": {},
   "outputs": [],
   "source": [
    "SCI_uk_eu=SCI_uk_eu[ ~ SCI_uk_eu['fr_loc'].str.startswith('UK')]"
   ]
  },
  {
   "cell_type": "code",
   "execution_count": 15,
   "metadata": {},
   "outputs": [],
   "source": [
    "SCI_uk_eu=SCI_uk_eu[ ~ SCI_uk_eu['fr_loc'].str.startswith('CYM')]"
   ]
  },
  {
   "cell_type": "code",
   "execution_count": 17,
   "metadata": {},
   "outputs": [
    {
     "name": "stdout",
     "output_type": "stream",
     "text": [
      "<class 'pandas.core.frame.DataFrame'>\n",
      "Int64Index: 236138 entries, 35563603 to 37177201\n",
      "Data columns (total 3 columns):\n",
      " #   Column      Non-Null Count   Dtype \n",
      "---  ------      --------------   ----- \n",
      " 0   user_loc    236138 non-null  object\n",
      " 1   fr_loc      236138 non-null  object\n",
      " 2   scaled_sci  236138 non-null  int64 \n",
      "dtypes: int64(1), object(2)\n",
      "memory usage: 7.2+ MB\n"
     ]
    }
   ],
   "source": [
    "SCI_uk_eu.info()"
   ]
  },
  {
   "cell_type": "code",
   "execution_count": 18,
   "metadata": {},
   "outputs": [],
   "source": [
    "SCI_uk_eu.to_csv (r'SCI_uk_eu.csv', index = False, header=True)"
   ]
  },
  {
   "cell_type": "code",
   "execution_count": null,
   "metadata": {},
   "outputs": [],
   "source": []
  }
 ],
 "metadata": {
  "kernelspec": {
   "display_name": "Python 3",
   "language": "python",
   "name": "python3"
  },
  "language_info": {
   "codemirror_mode": {
    "name": "ipython",
    "version": 3
   },
   "file_extension": ".py",
   "mimetype": "text/x-python",
   "name": "python",
   "nbconvert_exporter": "python",
   "pygments_lexer": "ipython3",
   "version": "3.7.8"
  }
 },
 "nbformat": 4,
 "nbformat_minor": 4
}
